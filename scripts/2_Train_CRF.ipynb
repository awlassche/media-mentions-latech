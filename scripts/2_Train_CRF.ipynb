{
 "cells": [
  {
   "cell_type": "code",
   "execution_count": null,
   "metadata": {},
   "outputs": [],
   "source": [
    "import glob\n",
    "import string\n",
    "import fasttext\n",
    "import fileinput\n",
    "import pandas as pd\n",
    "import numpy as np\n",
    "import sklearn\n",
    "import sklearn_crfsuite\n",
    "from sklearn_crfsuite import scorers\n",
    "from sklearn_crfsuite import metrics\n",
    "import scipy.stats\n",
    "from sklearn.metrics import make_scorer\n",
    "from sklearn.model_selection import cross_val_score\n",
    "from sklearn.model_selection import RandomizedSearchCV"
   ]
  },
  {
   "cell_type": "code",
   "execution_count": null,
   "metadata": {},
   "outputs": [],
   "source": [
    "lexicon_sources = []\n",
    "\n",
    "with open('../lexicon/set_2/lexicon_sources_2.txt', \"r\") as f:\n",
    "    lexicon_sources = f.read().split()"
   ]
  },
  {
   "cell_type": "markdown",
   "metadata": {},
   "source": [
    "# 1. Define features"
   ]
  },
  {
   "cell_type": "code",
   "execution_count": null,
   "metadata": {},
   "outputs": [],
   "source": [
    "def word2features(sent, i):\n",
    "    word = sent[i][2]\n",
    "    vector = sent[i][4:103]\n",
    "    binvector = sent[i][104:203]\n",
    "\n",
    "    features = {\n",
    "        'bias': 1.0,\n",
    "        'word.lower()': word.lower(),\n",
    "        'word[5:]': word[:5],\n",
    "        'word[-5:]': word[-5:],\n",
    "        'word.isdigit()': word.isdigit(),\n",
    "        'word.islower()': word.islower(),\n",
    "        'word.istitle()': word.istitle(),\n",
    "#         'word.issource()': word.lower() in lexicon_sources,\n",
    "#         'vector': vector,\n",
    "#         'binvector': binvector\n",
    "\n",
    "    }\n",
    "    if i > 0:\n",
    "        word1 = sent[i-1][2]\n",
    "        vector1 = sent[i-1][4:103]\n",
    "        binvector1 = sent[i-1][104:203]\n",
    "        features.update({\n",
    "            '-1:word.lower()': word1.lower(),\n",
    "            '-1:word[5:]': word1[:5],\n",
    "            '-1:word[-5:]': word1[-5:],\n",
    "            '-1:word.isdigit()': word1.isdigit(),\n",
    "            '-1word.islower()': word1.islower(),\n",
    "            '-1word.istitle()': word1.istitle(),\n",
    "#             '-1word.issource()': word1.lower() in lexicon_sources,\n",
    "#             '-1vector': vector1,\n",
    "#             '-1binvector': binvector1,\n",
    "        })\n",
    "    else:\n",
    "        features['BOS'] = True\n",
    "\n",
    "    if i < len(sent)-1:\n",
    "        word1 = sent[i+1][2]\n",
    "        vector1 = sent[i+1][4:103]\n",
    "        binvector1 = sent[i+1][104:203]\n",
    "        features.update({\n",
    "            '+1:word.lower()': word1.lower(),\n",
    "            '+1:word[5:]': word1[:5],\n",
    "            '+1:word[-5:]': word1[-5:],\n",
    "            '+1:word.isdigit()': word1.isdigit(),\n",
    "            '+1word.islower()': word1.islower(),\n",
    "            '+1word.istitle()': word1.istitle(),\n",
    "#             '+1word.issource()': word1.lower() in lexicon_sources,\n",
    "#             '+1vector': vector1,\n",
    "#             '+1binvector': binvector1,\n",
    "        })\n",
    "    else:\n",
    "        features['EOS'] = True\n",
    "\n",
    "    return features\n",
    "\n",
    "\n",
    "def sent2features(sent):\n",
    "    return [word2features(sent, i) for i in range(len(sent))]\n",
    "\n",
    "def sent2labels(sent): #use version of sent without vectors\n",
    "    return [label for nr, token, label in sent]\n",
    "\n",
    "def sent2tokens(sent): #use version of sent without vectors\n",
    "    return [token for nr, token, label in sent]"
   ]
  },
  {
   "cell_type": "markdown",
   "metadata": {},
   "source": [
    "# 2. Prepare train set"
   ]
  },
  {
   "cell_type": "code",
   "execution_count": null,
   "metadata": {},
   "outputs": [],
   "source": [
    "features_train = pd.read_csv('all_train_vectors.csv', sep=',', index_col=0).drop('attribute', 1)"
   ]
  },
  {
   "cell_type": "code",
   "execution_count": null,
   "metadata": {},
   "outputs": [],
   "source": [
    "features_train['vector'] = features_train['vector'].str.replace('[', '')\n",
    "features_train['vector'] = features_train['vector'].str.replace(']', '')\n",
    "features_train['vector'] = features_train['vector'].str.strip()\n",
    "features_train['vector'] = features_train['vector'].str.replace('\\n', ' ')\n",
    "features_train.vector = features_train.vector.replace('\\s+', ' ', regex=True)"
   ]
  },
  {
   "cell_type": "code",
   "execution_count": null,
   "metadata": {},
   "outputs": [],
   "source": [
    "features_train = pd.concat([features_train[['filename','token', 'label']], features_train['vector'].str.split(' ', expand=True)], axis=1)"
   ]
  },
  {
   "cell_type": "markdown",
   "metadata": {},
   "source": [
    "## 2.1 Convert RawEmb to BinEmb"
   ]
  },
  {
   "cell_type": "code",
   "execution_count": null,
   "metadata": {},
   "outputs": [],
   "source": [
    "for i in range (0,100):\n",
    "    features_train[i] = pd.to_numeric(features_train[i], downcast=\"float\")"
   ]
  },
  {
   "cell_type": "code",
   "execution_count": null,
   "metadata": {},
   "outputs": [],
   "source": [
    "model = fasttext.load_model(\"PATH_TO_FASTTEXT_MODEL/.bin\")\n",
    "numpynumeric = model.get_output_matrix()\n",
    "numeric = pd.DataFrame(data=numpynumeric)\n",
    "\n",
    "positive_means = np.mean(numeric[numeric > 0], axis=0).values\n",
    "negative_means = np.mean(numeric[numeric < 0], axis=0).values\n",
    "\n",
    "positive_dict = dict(zip(numeric, positive_means))\n",
    "negative_dict = dict(zip(numeric, negative_means))"
   ]
  },
  {
   "cell_type": "code",
   "execution_count": null,
   "metadata": {},
   "outputs": [],
   "source": [
    "all_rows = []\n",
    "\n",
    "for index, row in features_train.iterrows():\n",
    "    row_dict = dict(row)\n",
    "    for i in range(0,100):\n",
    "        if row_dict[i] > positive_dict[i]:\n",
    "            row_dict['bin' + str(i)] = '+'\n",
    "            continue\n",
    "        if row_dict[i] < negative_dict[i]:\n",
    "            row_dict['bin' + str(i)] = '-'\n",
    "            continue\n",
    "        else:\n",
    "            row_dict['bin' + str(i)] = 0\n",
    "    all_rows.append(row_dict)\n",
    "\n",
    "merged = pd.DataFrame(all_rows)"
   ]
  },
  {
   "cell_type": "code",
   "execution_count": null,
   "metadata": {},
   "outputs": [],
   "source": [
    "merged.to_csv('all_train_vectors_features_bin.csv')"
   ]
  },
  {
   "cell_type": "code",
   "execution_count": null,
   "metadata": {},
   "outputs": [],
   "source": [
    "from csv import reader\n",
    "\n",
    "with open('all_train_vectors_features_bin.csv', 'r') as read_obj:\n",
    "    csv_reader = reader(read_obj)\n",
    "    sent = list(csv_reader)"
   ]
  },
  {
   "cell_type": "code",
   "execution_count": null,
   "metadata": {
    "scrolled": true
   },
   "outputs": [],
   "source": [
    "sent.pop(0)"
   ]
  },
  {
   "cell_type": "code",
   "execution_count": null,
   "metadata": {},
   "outputs": [],
   "source": [
    "train_sents = [sent]\n",
    "sent2 = [item[1:4] for item in sent]\n",
    "train_sents2 = [sent2]"
   ]
  },
  {
   "cell_type": "code",
   "execution_count": null,
   "metadata": {},
   "outputs": [],
   "source": [
    "X_train = [sent2features(s) for s in train_sents]\n",
    "Y_train = [sent2labels(s) for s in train_sents2]"
   ]
  },
  {
   "cell_type": "markdown",
   "metadata": {},
   "source": [
    "### 2.1.1 Split vectors in 100 features"
   ]
  },
  {
   "cell_type": "code",
   "execution_count": null,
   "metadata": {},
   "outputs": [],
   "source": [
    "for item in X_train:\n",
    "    for word in item:\n",
    "        word_vector = word['vector']\n",
    "        for i, element in enumerate(word_vector):\n",
    "            word['vector{}'.format(i+1)] = float(element)\n",
    "        word.pop('vector')\n",
    "        if '-1vector' in word:\n",
    "            word_vector_prev = word['-1vector']\n",
    "            for i, element in enumerate(word_vector_prev):\n",
    "                word['-1vector{}'.format(i+1)] = float(element)\n",
    "            word.pop('-1vector')\n",
    "        else:\n",
    "            continue\n",
    "            \n",
    "        if '+1vector' in word:\n",
    "            word_vector_next = word['+1vector']\n",
    "            for i, element in enumerate(word_vector_next):\n",
    "                word['+1vector{}'.format(i+1)] = float(element)\n",
    "            word.pop('+1vector')\n",
    "        else:\n",
    "            continue"
   ]
  },
  {
   "cell_type": "markdown",
   "metadata": {},
   "source": [
    "### 2.1.2 Split binvectors in 100 features"
   ]
  },
  {
   "cell_type": "code",
   "execution_count": null,
   "metadata": {},
   "outputs": [],
   "source": [
    "for item in X_train:\n",
    "    for word in item:\n",
    "        word_vector = word['binvector']\n",
    "        for i, element in enumerate(word_vector):\n",
    "            word['binvector{}'.format(i+1)] = element\n",
    "        word.pop('binvector')\n",
    "        if '-1binvector' in word:\n",
    "            word_vector_prev = word['-1binvector']\n",
    "            for i, element in enumerate(word_vector_prev):\n",
    "                word['-1binvector{}'.format(i+1)] = element\n",
    "            word.pop('-1binvector')\n",
    "        else:\n",
    "            continue\n",
    "            \n",
    "        if '+1binvector' in word:\n",
    "            word_vector_next = word['+1binvector']\n",
    "            for i, element in enumerate(word_vector_next):\n",
    "                word['+1binvector{}'.format(i+1)] = element\n",
    "            word.pop('+1binvector')\n",
    "        else:\n",
    "            continue"
   ]
  },
  {
   "cell_type": "markdown",
   "metadata": {},
   "source": [
    "# 3. Prepare test set"
   ]
  },
  {
   "cell_type": "code",
   "execution_count": null,
   "metadata": {},
   "outputs": [],
   "source": [
    "features_test = pd.read_csv('all_test_vectors.csv', sep=',', index_col=0).drop('attribute', 1)"
   ]
  },
  {
   "cell_type": "code",
   "execution_count": null,
   "metadata": {},
   "outputs": [],
   "source": [
    "features_test['vector'] = features_test['vector'].str.replace('[', '')\n",
    "features_test['vector'] = features_test['vector'].str.replace(']', '')\n",
    "features_test['vector'] = features_test['vector'].str.strip()\n",
    "features_test['vector'] = features_test['vector'].str.replace('\\n', ' ')\n",
    "features_test.vector = features_test.vector.replace('\\s+', ' ', regex=True)"
   ]
  },
  {
   "cell_type": "code",
   "execution_count": null,
   "metadata": {},
   "outputs": [],
   "source": [
    "features_test = pd.concat([features_test[['filename', 'token', 'label']], features_test['vector'].str.split(' ', expand=True)], axis=1)"
   ]
  },
  {
   "cell_type": "markdown",
   "metadata": {},
   "source": [
    "## 3.1 Convert RawEmb to BinEmb"
   ]
  },
  {
   "cell_type": "code",
   "execution_count": null,
   "metadata": {},
   "outputs": [],
   "source": [
    "for i in range (0,100):\n",
    "    features_test[i] = pd.to_numeric(features_test[i], downcast=\"float\")"
   ]
  },
  {
   "cell_type": "code",
   "execution_count": null,
   "metadata": {},
   "outputs": [],
   "source": [
    "all_rows = []\n",
    "\n",
    "for index, row in features_test.iterrows():\n",
    "    row_dict = dict(row)\n",
    "    for i in range(0,100):\n",
    "        if row_dict[i] > positive_dict[i]:\n",
    "            row_dict['bin' + str(i)] = '+'\n",
    "            continue\n",
    "        if row_dict[i] < negative_dict[i]:\n",
    "            row_dict['bin' + str(i)] = '-'\n",
    "            continue\n",
    "        else:\n",
    "            row_dict['bin' + str(i)] = 0\n",
    "    all_rows.append(row_dict)\n",
    "\n",
    "merged = pd.DataFrame(all_rows)"
   ]
  },
  {
   "cell_type": "code",
   "execution_count": null,
   "metadata": {},
   "outputs": [],
   "source": [
    "merged.to_csv('all_test_vectors_features_bin.csv')"
   ]
  },
  {
   "cell_type": "code",
   "execution_count": null,
   "metadata": {},
   "outputs": [],
   "source": [
    "with open('all_test_vectors_features_bin.csv', 'r') as read_obj:\n",
    "    csv_reader = reader(read_obj)\n",
    "    sent3 = list(csv_reader)"
   ]
  },
  {
   "cell_type": "code",
   "execution_count": null,
   "metadata": {},
   "outputs": [],
   "source": [
    "sent3.pop(0)"
   ]
  },
  {
   "cell_type": "code",
   "execution_count": null,
   "metadata": {},
   "outputs": [],
   "source": [
    "test_sents = [sent3]\n",
    "sent4 = [item[1:4] for item in sent3]\n",
    "test_sents2 = [sent4]"
   ]
  },
  {
   "cell_type": "code",
   "execution_count": null,
   "metadata": {},
   "outputs": [],
   "source": [
    "X_test = [sent2features(s) for s in test_sents]\n",
    "Y_test = [sent2labels(s) for s in test_sents2]"
   ]
  },
  {
   "cell_type": "markdown",
   "metadata": {},
   "source": [
    "### 3.1.1 Split vectors into 100 features"
   ]
  },
  {
   "cell_type": "code",
   "execution_count": null,
   "metadata": {},
   "outputs": [],
   "source": [
    "for item in X_test:\n",
    "    for word in item:\n",
    "        word_vector = word['vector']\n",
    "        for i, element in enumerate(word_vector):\n",
    "            word['vector{}'.format(i+1)] = float(element)\n",
    "        word.pop('vector')\n",
    "        \n",
    "        if '-1vector' in word:\n",
    "            word_vector_prev = word['-1vector']\n",
    "            for i, element in enumerate(word_vector_prev):\n",
    "                word['-1vector{}'.format(i+1)] = float(element)\n",
    "            word.pop('-1vector')\n",
    "        else:\n",
    "            continue\n",
    "            \n",
    "        if '+1vector' in word:\n",
    "            word_vector_next = word['+1vector']\n",
    "            for i, element in enumerate(word_vector_next):\n",
    "                word['+1vector{}'.format(i+1)] = float(element)\n",
    "            word.pop('+1vector')\n",
    "        else:\n",
    "            continue"
   ]
  },
  {
   "cell_type": "markdown",
   "metadata": {},
   "source": [
    "### 3.1.2 Split binvectors into 100 features"
   ]
  },
  {
   "cell_type": "code",
   "execution_count": null,
   "metadata": {},
   "outputs": [],
   "source": [
    "for item in X_test:\n",
    "    for word in item:\n",
    "        word_vector = word['binvector']\n",
    "        for i, element in enumerate(word_vector):\n",
    "            word['binvector{}'.format(i+1)] = element\n",
    "        word.pop('binvector')\n",
    "        if '-1binvector' in word:\n",
    "            word_vector_prev = word['-1binvector']\n",
    "            for i, element in enumerate(word_vector_prev):\n",
    "                word['-1binvector{}'.format(i+1)] = element\n",
    "            word.pop('-1binvector')\n",
    "        else:\n",
    "            continue\n",
    "            \n",
    "        if '+1binvector' in word:\n",
    "            word_vector_next = word['+1binvector']\n",
    "            for i, element in enumerate(word_vector_next):\n",
    "                word['+1binvector{}'.format(i+1)] = element\n",
    "            word.pop('+1binvector')\n",
    "        else:\n",
    "            continue"
   ]
  },
  {
   "cell_type": "markdown",
   "metadata": {},
   "source": [
    "# 4. Train CRF-model"
   ]
  },
  {
   "cell_type": "code",
   "execution_count": null,
   "metadata": {},
   "outputs": [],
   "source": [
    "crf = sklearn_crfsuite.CRF(\n",
    "    algorithm='lbfgs',\n",
    "    c1=0.1,\n",
    "    c2=0.1,\n",
    "    max_iterations=100,\n",
    "    all_possible_transitions=True\n",
    ")\n",
    "crf.fit(X_train, Y_train)"
   ]
  },
  {
   "cell_type": "markdown",
   "metadata": {},
   "source": [
    "# 5. Evaluate the model"
   ]
  },
  {
   "cell_type": "code",
   "execution_count": null,
   "metadata": {},
   "outputs": [],
   "source": [
    "labels = list(crf.classes_)\n",
    "labels.remove('O')"
   ]
  },
  {
   "cell_type": "code",
   "execution_count": null,
   "metadata": {},
   "outputs": [],
   "source": [
    "Y_pred = crf.predict(X_test)\n",
    "metrics.flat_f1_score(Y_test, Y_pred,\n",
    "                      average='weighted', labels=labels)"
   ]
  },
  {
   "cell_type": "code",
   "execution_count": null,
   "metadata": {},
   "outputs": [],
   "source": [
    "print(metrics.flat_classification_report(\n",
    "    Y_test, Y_pred, labels=labels, digits=3\n",
    "))"
   ]
  },
  {
   "cell_type": "code",
   "execution_count": null,
   "metadata": {
    "scrolled": true
   },
   "outputs": [],
   "source": [
    "from collections import Counter\n",
    "\n",
    "def print_transitions(trans_features):\n",
    "    for (label_from, label_to), weight in trans_features:\n",
    "        print(\"%-6s -> %-7s %0.6f\" % (label_from, label_to, weight))\n",
    "\n",
    "print(\"Top likely transitions:\")\n",
    "print_transitions(Counter(crf.transition_features_).most_common(20))\n",
    "\n",
    "print(\"\\nTop unlikely transitions:\")\n",
    "print_transitions(Counter(crf.transition_features_).most_common()[-20:])"
   ]
  },
  {
   "cell_type": "code",
   "execution_count": null,
   "metadata": {},
   "outputs": [],
   "source": [
    "def print_state_features(state_features):\n",
    "    for (attr, label), weight in state_features:\n",
    "        print(\"%0.6f %-8s %s\" % (weight, label, attr))\n",
    "\n",
    "print(\"Top positive:\")\n",
    "print_state_features(Counter(crf.state_features_).most_common(30))\n",
    "\n",
    "print(\"\\nTop negative:\")\n",
    "print_state_features(Counter(crf.state_features_).most_common()[-30:])"
   ]
  },
  {
   "cell_type": "markdown",
   "metadata": {},
   "source": [
    "# 6. Merge label and predicted label"
   ]
  },
  {
   "cell_type": "code",
   "execution_count": null,
   "metadata": {},
   "outputs": [],
   "source": [
    "from itertools import chain\n",
    "\n",
    "new_Y_pred = list(chain.from_iterable(Y_pred))"
   ]
  },
  {
   "cell_type": "code",
   "execution_count": null,
   "metadata": {},
   "outputs": [],
   "source": [
    "result = [a+[x] for a,x in zip(sent4,new_Y_pred)]"
   ]
  },
  {
   "cell_type": "code",
   "execution_count": null,
   "metadata": {},
   "outputs": [],
   "source": [
    "df = pd.DataFrame(result, columns=['filename', 'token', 'gold', 'prediction'])"
   ]
  },
  {
   "cell_type": "code",
   "execution_count": null,
   "metadata": {},
   "outputs": [],
   "source": [
    "df.head()"
   ]
  },
  {
   "cell_type": "code",
   "execution_count": null,
   "metadata": {},
   "outputs": [],
   "source": [
    "df.groupby('gold')['gold'].count()"
   ]
  },
  {
   "cell_type": "code",
   "execution_count": null,
   "metadata": {},
   "outputs": [],
   "source": [
    "df_gold = df.copy().drop(['prediction'], 1)"
   ]
  },
  {
   "cell_type": "code",
   "execution_count": null,
   "metadata": {},
   "outputs": [],
   "source": [
    "df_gold.head()"
   ]
  },
  {
   "cell_type": "code",
   "execution_count": null,
   "metadata": {},
   "outputs": [],
   "source": [
    "df_prediction = df.drop(['gold'], 1)"
   ]
  },
  {
   "cell_type": "code",
   "execution_count": null,
   "metadata": {},
   "outputs": [],
   "source": [
    "df_prediction.head()"
   ]
  },
  {
   "cell_type": "code",
   "execution_count": null,
   "metadata": {},
   "outputs": [],
   "source": [
    "df_gold.to_csv('lexicon_gold.txt', sep='\\t')"
   ]
  },
  {
   "cell_type": "code",
   "execution_count": null,
   "metadata": {},
   "outputs": [],
   "source": [
    "df_prediction.to_csv('lexicon_prediction.txt', sep='\\t')"
   ]
  },
  {
   "cell_type": "code",
   "execution_count": null,
   "metadata": {},
   "outputs": [],
   "source": [
    "df.to_csv('lexicon_gold_prediction.csv')"
   ]
  }
 ],
 "metadata": {
  "kernelspec": {
   "display_name": "Python 3",
   "language": "python",
   "name": "python3"
  },
  "language_info": {
   "codemirror_mode": {
    "name": "ipython",
    "version": 3
   },
   "file_extension": ".py",
   "mimetype": "text/x-python",
   "name": "python",
   "nbconvert_exporter": "python",
   "pygments_lexer": "ipython3",
   "version": "3.6.8"
  }
 },
 "nbformat": 4,
 "nbformat_minor": 2
}
